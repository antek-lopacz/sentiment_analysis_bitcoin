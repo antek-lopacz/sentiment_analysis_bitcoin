{
 "cells": [
  {
   "cell_type": "code",
   "execution_count": 5,
   "metadata": {},
   "outputs": [],
   "source": [
    "from pathlib import Path\n",
    "import sys\n",
    "import os\n",
    "import pandas as pd\n",
    "import numpy as np\n",
    "import matplotlib.pyplot as plt\n",
    "\n",
    "# sys.path.append(str(Path.cwd().parents[0] / \"src\"))\n",
    "\n",
    "# Notebook at repo root:\n",
    "sys.path.insert(0, str(Path.cwd() / \"src\"))\n",
    "from project_paths import DATA_DIR\n",
    "\n",
    "pd.set_option('display.max_columns', None)\n",
    "pd.set_option('display.max_colwidth', None)\n",
    "\n",
    "from functions import visualizations as viz\n"
   ]
  },
  {
   "cell_type": "markdown",
   "metadata": {},
   "source": [
    "# reddit_sentiment_august2021.csv"
   ]
  },
  {
   "cell_type": "markdown",
   "metadata": {},
   "source": [
    "\"reddit_sentiment_august2021.csv\" is a sentiment analysis of the dataset: \\\n",
    "https://www.kaggle.com/datasets/pavellexyr/reddit-cryptocurrency-data-for-august-2021\n",
    "\n",
    "There this dataset is called:\n",
    "- \"initial_crypto-aug-2021-comments.csv\" \n",
    "    - dataset with reddit comments\n",
    "- \"initial_crypto-aug-2021-posts.csv\"\n",
    "    - dataset with reddit posts"
   ]
  },
  {
   "cell_type": "markdown",
   "metadata": {},
   "source": [
    "#### Dataset columns (description by ChatGPT)\n",
    "- 'created_utc'\n",
    "    - The UTC timestamp for when the comment or post was created.\n",
    "- 'body'\n",
    "    - The content of the Reddit post or comment related to Bitcoin.\n",
    "- 'permalink'\n",
    "    - The link to the specific Reddit post or comment.\n",
    "- 'comments_sentiment'\n",
    "    - A general sentiment score for the comment or post.\n",
    "- 'tb_polarity'\n",
    "    - The polarity score indicating positivity or negativity derived from TextBlob sentiment analysis.\n",
    "- 'tb_subjectivity'\n",
    "    - The subjectivity score indicating the degree of personal opinion derived from TextBlob analysis.\n",
    "- 'anger'\n",
    "    - The intensity of anger expressed in the comment or post.\n",
    "- 'joy'\n",
    "    - The intensity of joy expressed in the comment or post.\n",
    "- 'optimism'\n",
    "    - The intensity of optimism expressed in the comment or post.\n",
    "- 'sadness'\n",
    "    - The intensity of sadness expressed in the comment or post.\n",
    "- 'sia_pos'\n",
    "    - The positive sentiment score from the VADER sentiment analysis.\n",
    "- 'sia_neg'\n",
    "    - The negative sentiment score from the VADER sentiment analysis.\n",
    "- 'sia_neu'\n",
    "    - The neutral sentiment score from the VADER sentiment analysis.\n",
    "- 'sid_com'\n",
    "    - The compound sentiment score from the VADER sentiment analysis, indicating overall sentiment polarity.\n",
    "- 'reddit_flair'\n",
    "    - The flair (label or category) assigned to the post in the specific subreddit, often representing sentiment or topic.\n",
    "- 'BERT-Sentiment'\n",
    "    - The sentiment classification result from a BERT-based sentiment analysis model.\n"
   ]
  },
  {
   "cell_type": "code",
   "execution_count": 6,
   "metadata": {},
   "outputs": [],
   "source": [
    "reddit_data = pd.read_csv(DATA_DIR / \"reddit_sentiment_august2021.csv\", index_col='Unnamed: 0')"
   ]
  },
  {
   "cell_type": "code",
   "execution_count": 4,
   "metadata": {},
   "outputs": [],
   "source": [
    "# reddit_data.columns\n",
    "# reddit_data.head(1)"
   ]
  },
  {
   "cell_type": "markdown",
   "metadata": {},
   "source": [
    "#### Dataset analisis"
   ]
  },
  {
   "cell_type": "code",
   "execution_count": 5,
   "metadata": {},
   "outputs": [
    {
     "data": {
      "text/html": [
       "<div>\n",
       "<style scoped>\n",
       "    .dataframe tbody tr th:only-of-type {\n",
       "        vertical-align: middle;\n",
       "    }\n",
       "\n",
       "    .dataframe tbody tr th {\n",
       "        vertical-align: top;\n",
       "    }\n",
       "\n",
       "    .dataframe thead th {\n",
       "        text-align: right;\n",
       "    }\n",
       "</style>\n",
       "<table border=\"1\" class=\"dataframe\">\n",
       "  <thead>\n",
       "    <tr style=\"text-align: right;\">\n",
       "      <th></th>\n",
       "      <th>comments_sentiment</th>\n",
       "      <th>tb_polarity</th>\n",
       "      <th>tb_subjectivity</th>\n",
       "      <th>sia_pos</th>\n",
       "      <th>sia_neg</th>\n",
       "      <th>sia_neu</th>\n",
       "      <th>BERT-Sentiment</th>\n",
       "    </tr>\n",
       "  </thead>\n",
       "  <tbody>\n",
       "    <tr>\n",
       "      <th>count</th>\n",
       "      <td>55002.000000</td>\n",
       "      <td>55002.000000</td>\n",
       "      <td>55002.000000</td>\n",
       "      <td>55002.000000</td>\n",
       "      <td>55002.000000</td>\n",
       "      <td>55002.000000</td>\n",
       "      <td>55002.000000</td>\n",
       "    </tr>\n",
       "    <tr>\n",
       "      <th>mean</th>\n",
       "      <td>0.092082</td>\n",
       "      <td>0.178669</td>\n",
       "      <td>0.492542</td>\n",
       "      <td>0.190862</td>\n",
       "      <td>0.052493</td>\n",
       "      <td>0.756632</td>\n",
       "      <td>2.271608</td>\n",
       "    </tr>\n",
       "    <tr>\n",
       "      <th>std</th>\n",
       "      <td>0.175581</td>\n",
       "      <td>0.157507</td>\n",
       "      <td>0.139313</td>\n",
       "      <td>0.093896</td>\n",
       "      <td>0.056766</td>\n",
       "      <td>0.097903</td>\n",
       "      <td>1.772714</td>\n",
       "    </tr>\n",
       "    <tr>\n",
       "      <th>min</th>\n",
       "      <td>-0.969600</td>\n",
       "      <td>-1.000000</td>\n",
       "      <td>0.000000</td>\n",
       "      <td>0.000000</td>\n",
       "      <td>0.000000</td>\n",
       "      <td>0.000000</td>\n",
       "      <td>1.000000</td>\n",
       "    </tr>\n",
       "    <tr>\n",
       "      <th>25%</th>\n",
       "      <td>0.000000</td>\n",
       "      <td>0.086517</td>\n",
       "      <td>0.417296</td>\n",
       "      <td>0.132000</td>\n",
       "      <td>0.010000</td>\n",
       "      <td>0.705000</td>\n",
       "      <td>1.000000</td>\n",
       "    </tr>\n",
       "    <tr>\n",
       "      <th>50%</th>\n",
       "      <td>0.000000</td>\n",
       "      <td>0.179221</td>\n",
       "      <td>0.495481</td>\n",
       "      <td>0.181000</td>\n",
       "      <td>0.038000</td>\n",
       "      <td>0.761000</td>\n",
       "      <td>1.000000</td>\n",
       "    </tr>\n",
       "    <tr>\n",
       "      <th>75%</th>\n",
       "      <td>0.187510</td>\n",
       "      <td>0.263997</td>\n",
       "      <td>0.574486</td>\n",
       "      <td>0.240000</td>\n",
       "      <td>0.076000</td>\n",
       "      <td>0.820000</td>\n",
       "      <td>5.000000</td>\n",
       "    </tr>\n",
       "    <tr>\n",
       "      <th>max</th>\n",
       "      <td>0.979100</td>\n",
       "      <td>1.000000</td>\n",
       "      <td>1.000000</td>\n",
       "      <td>1.000000</td>\n",
       "      <td>0.555000</td>\n",
       "      <td>1.000000</td>\n",
       "      <td>5.000000</td>\n",
       "    </tr>\n",
       "  </tbody>\n",
       "</table>\n",
       "</div>"
      ],
      "text/plain": [
       "       comments_sentiment   tb_polarity  tb_subjectivity       sia_pos  \\\n",
       "count        55002.000000  55002.000000     55002.000000  55002.000000   \n",
       "mean             0.092082      0.178669         0.492542      0.190862   \n",
       "std              0.175581      0.157507         0.139313      0.093896   \n",
       "min             -0.969600     -1.000000         0.000000      0.000000   \n",
       "25%              0.000000      0.086517         0.417296      0.132000   \n",
       "50%              0.000000      0.179221         0.495481      0.181000   \n",
       "75%              0.187510      0.263997         0.574486      0.240000   \n",
       "max              0.979100      1.000000         1.000000      1.000000   \n",
       "\n",
       "            sia_neg       sia_neu  BERT-Sentiment  \n",
       "count  55002.000000  55002.000000    55002.000000  \n",
       "mean       0.052493      0.756632        2.271608  \n",
       "std        0.056766      0.097903        1.772714  \n",
       "min        0.000000      0.000000        1.000000  \n",
       "25%        0.010000      0.705000        1.000000  \n",
       "50%        0.038000      0.761000        1.000000  \n",
       "75%        0.076000      0.820000        5.000000  \n",
       "max        0.555000      1.000000        5.000000  "
      ]
     },
     "execution_count": 5,
     "metadata": {},
     "output_type": "execute_result"
    }
   ],
   "source": [
    "# DataFrame with sentiment analysis results\n",
    "reddit_data.describe()[['comments_sentiment',\n",
    "                        'tb_polarity',\n",
    "                        'tb_subjectivity',\n",
    "                        'sia_pos',\n",
    "                        'sia_neg',\n",
    "                        'sia_neu',\n",
    "                        'BERT-Sentiment',\n",
    "                        ]]"
   ]
  },
  {
   "cell_type": "code",
   "execution_count": 7,
   "metadata": {},
   "outputs": [],
   "source": [
    "# Function to plot sentiment columns distributions\n",
    "def plot_mixed(df, cols, discrete_threshold=10, density=False, xlim_by_col=None, bins=\"auto\"):\n",
    "    cols = list(cols)\n",
    "    xlim_by_col = xlim_by_col or {}\n",
    "\n",
    "    n = len(cols)\n",
    "    ncols = min(3, n)\n",
    "    nrows = int(np.ceil(n / ncols))\n",
    "    fig, axes = plt.subplots(nrows, ncols, figsize=(6*ncols, 4*nrows))\n",
    "    axes = np.atleast_1d(axes).ravel()\n",
    "\n",
    "    for ax, col in zip(axes, cols):\n",
    "        s = df[col].dropna()\n",
    "        is_numeric = pd.api.types.is_numeric_dtype(df[col])\n",
    "        if is_numeric:\n",
    "            s = pd.to_numeric(s, errors=\"coerce\").dropna()\n",
    "\n",
    "        is_discrete = (not is_numeric) or (s.nunique() <= discrete_threshold)\n",
    "\n",
    "        if len(s) == 0:\n",
    "            ax.set_title(f\"{col} (N=0)\")\n",
    "            ax.axis(\"off\")\n",
    "            continue\n",
    "\n",
    "        if is_discrete:\n",
    "            vc = s.astype(str).value_counts().sort_index()\n",
    "            ax.bar(range(len(vc)), vc.values, alpha=0.8)\n",
    "            ax.set_xticks(range(len(vc)))\n",
    "            ax.set_xticklabels(vc.index, rotation=0)\n",
    "            ax.set_ylabel(\"Count\")\n",
    "        else:\n",
    "            ax.hist(s.values, bins=bins, alpha=0.7, edgecolor=\"white\", density=density)\n",
    "            ax.set_ylabel(\"Density\" if density else \"Frequency\")\n",
    "            m, med = float(s.mean()), float(s.median())\n",
    "            ax.axvline(m, linewidth=1)\n",
    "            ax.axvline(med, linestyle=\"--\", linewidth=1)\n",
    "            if col in xlim_by_col:\n",
    "                ax.set_xlim(*xlim_by_col[col])\n",
    "\n",
    "        ax.set_title(f\"{col} (N={len(s)})\")\n",
    "        ax.set_xlabel(col)\n",
    "        ax.grid(alpha=0.3)\n",
    "\n",
    "    for ax in axes[len(cols):]:\n",
    "        ax.set_visible(False)\n",
    "\n",
    "    fig.tight_layout()\n",
    "    return fig, axes\n"
   ]
  },
  {
   "cell_type": "code",
   "execution_count": 9,
   "metadata": {},
   "outputs": [
    {
     "data": {
      "text/plain": [
       "(<Figure size 1800x400 with 3 Axes>,\n",
       " array([<Axes: title={'center': 'reddit_flair (N=55002)'}, xlabel='reddit_flair', ylabel='Frequency'>,\n",
       "        <Axes: title={'center': 'comments_sentiment (N=55002)'}, xlabel='comments_sentiment', ylabel='Frequency'>,\n",
       "        <Axes: title={'center': 'BERT-Sentiment (N=55002)'}, xlabel='BERT-Sentiment', ylabel='Count'>],\n",
       "       dtype=object))"
      ]
     },
     "execution_count": 9,
     "metadata": {},
     "output_type": "execute_result"
    },
    {
     "data": {
      "image/png": "[encoded data removed]",
      "text/plain": [
       "<Figure size 1800x400 with 3 Axes>"
      ]
     },
     "metadata": {},
     "output_type": "display_data"
    }
   ],
   "source": [
    "plot_mixed(\n",
    "    reddit_data,\n",
    "    [\"reddit_flair\",\"comments_sentiment\",\"BERT-Sentiment\"],\n",
    "    xlim_by_col={\"reddit_flair\": (-1,1), \"comments_sentiment\": (-1,1)}\n",
    ")"
   ]
  },
  {
   "cell_type": "markdown",
   "metadata": {},
   "source": [
    "### BERT-Sentiment column"
   ]
  },
  {
   "cell_type": "code",
   "execution_count": 7,
   "metadata": {},
   "outputs": [
    {
     "data": {
      "text/plain": [
       "BERT-Sentiment\n",
       "1                 0.628686\n",
       "5                 0.268590\n",
       "2                 0.046053\n",
       "4                 0.037853\n",
       "3                 0.018817\n",
       "Name: proportion, dtype: float64"
      ]
     },
     "execution_count": 7,
     "metadata": {},
     "output_type": "execute_result"
    }
   ],
   "source": [
    "# Analysis of the 'BERT-Sentiment' column\n",
    "reddit_data[['BERT-Sentiment']].value_counts(normalize=True)"
   ]
  },
  {
   "cell_type": "code",
   "execution_count": 8,
   "metadata": {},
   "outputs": [
    {
     "data": {
      "text/plain": [
       "BERT-Sentiment\n",
       "1    34579\n",
       "2     2533\n",
       "3     1035\n",
       "4     2082\n",
       "5    14773\n",
       "Name: count, dtype: int64"
      ]
     },
     "execution_count": 8,
     "metadata": {},
     "output_type": "execute_result"
    }
   ],
   "source": [
    "BERT_counts = reddit_data['BERT-Sentiment'].value_counts()\n",
    "BERT_counts.sort_index(inplace=True)\n",
    "BERT_counts"
   ]
  },
  {
   "cell_type": "code",
   "execution_count": 9,
   "metadata": {},
   "outputs": [
    {
     "data": {
      "text/plain": [
       "BERT-Sentiment\n",
       "1    0.419735\n",
       "2    0.071968\n",
       "3    0.029407\n",
       "4    0.059154\n",
       "5    0.419735\n",
       "Name: count, dtype: float64"
      ]
     },
     "execution_count": 9,
     "metadata": {},
     "output_type": "execute_result"
    }
   ],
   "source": [
    "BERT_counts[1] = BERT_counts[1] - (BERT_counts[1] - BERT_counts[5])  \n",
    "BERT_counts/ BERT_counts.sum()"
   ]
  },
  {
   "cell_type": "markdown",
   "metadata": {},
   "source": [
    "# reddit_sentiment_processed.csv"
   ]
  },
  {
   "cell_type": "code",
   "execution_count": 12,
   "metadata": {},
   "outputs": [],
   "source": [
    "# 1) Select columns and create labels 0..4\n",
    "data = reddit_data[['body', 'BERT-Sentiment']].dropna(subset=['BERT-Sentiment']).copy()\n",
    "data['BERT-Sentiment'] = pd.to_numeric(data['BERT-Sentiment'], errors='coerce').astype(int)\n",
    "data['sentiment_label'] = data['BERT-Sentiment'] - 1\n",
    "\n",
    "# Keep only valid labels 0..4\n",
    "data = data[data['sentiment_label'].between(0, 4)].reset_index(drop=True)\n",
    "\n",
    "# 2) Downsample class 0 to match class 4 (if 0 > 4)\n",
    "vc = data['sentiment_label'].value_counts()\n",
    "n0 = int(vc.get(0, 0))\n",
    "n4 = int(vc.get(4, 0))\n",
    "\n",
    "if n0 > n4 and n4 > 0:\n",
    "    n_remove = n0 - n4\n",
    "    drop_idx = (data.index[data['sentiment_label'].eq(0)]\n",
    "                .to_series()\n",
    "                .sample(n=n_remove, replace=False, random_state=42)\n",
    "                .index)\n",
    "    data = data.drop(drop_idx).reset_index(drop=True)\n",
    "\n",
    "# 3) Final labels array\n",
    "labels = data['sentiment_label'].to_numpy()\n",
    "\n",
    "# 4) Save the processed data\n",
    "data.to_csv(DATA_DIR / \"reddit_sentiment_processed.csv\", index=False)"
   ]
  }
 ],
 "metadata": {
  "kernelspec": {
   "display_name": "venv_pc",
   "language": "python",
   "name": "python3"
  },
  "language_info": {
   "codemirror_mode": {
    "name": "ipython",
    "version": 3
   },
   "file_extension": ".py",
   "mimetype": "text/x-python",
   "name": "python",
   "nbconvert_exporter": "python",
   "pygments_lexer": "ipython3",
   "version": "3.11.5"
  }
 },
 "nbformat": 4,
 "nbformat_minor": 2
}
